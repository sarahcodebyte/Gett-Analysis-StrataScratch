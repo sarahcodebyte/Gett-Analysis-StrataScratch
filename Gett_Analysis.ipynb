{
  "nbformat": 4,
  "nbformat_minor": 0,
  "metadata": {
    "colab": {
      "provenance": [],
      "authorship_tag": "ABX9TyPSedgmhJcKLmby7Nc5guDM",
      "include_colab_link": true
    },
    "kernelspec": {
      "name": "python3",
      "display_name": "Python 3"
    },
    "language_info": {
      "name": "python"
    }
  },
  "cells": [
    {
      "cell_type": "markdown",
      "metadata": {
        "id": "view-in-github",
        "colab_type": "text"
      },
      "source": [
        "<a href=\"https://colab.research.google.com/github/sarahcodebyte/Gett-Analysis-StrataScratch/blob/main/Gett_Analysis.ipynb\" target=\"_parent\"><img src=\"https://colab.research.google.com/assets/colab-badge.svg\" alt=\"Open In Colab\"/></a>"
      ]
    },
    {
      "cell_type": "markdown",
      "source": [
        "#**Description**:\n",
        "\n",
        "This notebook is for the analysis of the Gett's company data which is an Israeli-developed technology platform solely focused on corporate Ground Transportation Management (GTM). They have an application where clients can order taxis, and drivers can accept their rides (offers). At the moment, when the client clicks the Order button in the application, the matching system searches for the most relevant drivers and offers them the order. In this task, we would like to investigate some matching metrics for orders that did not completed successfully, i.e., the customer didn't end up getting a car.\n",
        "\n",
        "\n",
        "This project aims to analyse the data and provide insights on the following queries:\n",
        "\n",
        "\n",
        "*   Build up distribution of orders according to reasons for failure: cancellations before and after driver assignment and reasons for order rejection. Analyze the resulting plot. Which category has the highest number of orders?\n",
        "\n",
        "*   Plot the distribution of failed orders by hours. Is there a trend that certain hours have an abnormally high proportion of one category or another? What hours are the biggest failures? Explain.\n",
        "\n",
        "*   Plot the average time to cancellation with and without driver, by the hour. If there are any outliers in the data, it would be better to remove them. Can we draw any conclusions from this plot?\n",
        "\n",
        "*   Plot the distribution of average ETA by hours. How can this plot be explained?\n",
        "\n",
        "\n",
        "This is a project under the GirlScript Summer of Code'23, issue no #258.\n",
        "\n",
        "\n",
        "Developed by: Sarah Shruti Kujur\n",
        "\n",
        "Connect on GitHub: [sarahcodebyte](https://github.com/sarahcodebyte)"
      ],
      "metadata": {
        "id": "gcakUSUXayPW"
      }
    },
    {
      "cell_type": "markdown",
      "source": [
        "# **Importing Dependencies:**"
      ],
      "metadata": {
        "id": "kLQPy_mieM-q"
      }
    },
    {
      "cell_type": "code",
      "execution_count": null,
      "metadata": {
        "id": "BehelWWyasn1"
      },
      "outputs": [],
      "source": [
        "import pandas as pd\n",
        "import numpy as np\n",
        "import seaborn as sns\n",
        "import matplotlib.pyplot as plt"
      ]
    },
    {
      "cell_type": "markdown",
      "source": [
        "# **Loading Datasets:**"
      ],
      "metadata": {
        "id": "XSMruM2Yn491"
      }
    },
    {
      "cell_type": "code",
      "source": [
        "offers = pd.read_csv('/content/data_offers.csv')\n",
        "order = pd.read_csv('/content/data_orders.csv')"
      ],
      "metadata": {
        "id": "pWwMHHHJnw_z"
      },
      "execution_count": null,
      "outputs": []
    },
    {
      "cell_type": "code",
      "source": [
        "offers.head()"
      ],
      "metadata": {
        "colab": {
          "base_uri": "https://localhost:8080/",
          "height": 206
        },
        "id": "gyu2xWBqoMKY",
        "outputId": "7e1ab38f-d766-49b6-edca-0408d5119cd0"
      },
      "execution_count": null,
      "outputs": [
        {
          "output_type": "execute_result",
          "data": {
            "text/plain": [
              "        order_gk      offer_id\n",
              "0  3000579625629  300050936206\n",
              "1  3000627306450  300052064651\n",
              "2  3000632920686  300052408812\n",
              "3  3000632771725  300052393030\n",
              "4  3000583467642  300051001196"
            ],
            "text/html": [
              "\n",
              "  <div id=\"df-fe075426-c313-4337-9c67-7ec58a17787a\">\n",
              "    <div class=\"colab-df-container\">\n",
              "      <div>\n",
              "<style scoped>\n",
              "    .dataframe tbody tr th:only-of-type {\n",
              "        vertical-align: middle;\n",
              "    }\n",
              "\n",
              "    .dataframe tbody tr th {\n",
              "        vertical-align: top;\n",
              "    }\n",
              "\n",
              "    .dataframe thead th {\n",
              "        text-align: right;\n",
              "    }\n",
              "</style>\n",
              "<table border=\"1\" class=\"dataframe\">\n",
              "  <thead>\n",
              "    <tr style=\"text-align: right;\">\n",
              "      <th></th>\n",
              "      <th>order_gk</th>\n",
              "      <th>offer_id</th>\n",
              "    </tr>\n",
              "  </thead>\n",
              "  <tbody>\n",
              "    <tr>\n",
              "      <th>0</th>\n",
              "      <td>3000579625629</td>\n",
              "      <td>300050936206</td>\n",
              "    </tr>\n",
              "    <tr>\n",
              "      <th>1</th>\n",
              "      <td>3000627306450</td>\n",
              "      <td>300052064651</td>\n",
              "    </tr>\n",
              "    <tr>\n",
              "      <th>2</th>\n",
              "      <td>3000632920686</td>\n",
              "      <td>300052408812</td>\n",
              "    </tr>\n",
              "    <tr>\n",
              "      <th>3</th>\n",
              "      <td>3000632771725</td>\n",
              "      <td>300052393030</td>\n",
              "    </tr>\n",
              "    <tr>\n",
              "      <th>4</th>\n",
              "      <td>3000583467642</td>\n",
              "      <td>300051001196</td>\n",
              "    </tr>\n",
              "  </tbody>\n",
              "</table>\n",
              "</div>\n",
              "      <button class=\"colab-df-convert\" onclick=\"convertToInteractive('df-fe075426-c313-4337-9c67-7ec58a17787a')\"\n",
              "              title=\"Convert this dataframe to an interactive table.\"\n",
              "              style=\"display:none;\">\n",
              "        \n",
              "  <svg xmlns=\"http://www.w3.org/2000/svg\" height=\"24px\"viewBox=\"0 0 24 24\"\n",
              "       width=\"24px\">\n",
              "    <path d=\"M0 0h24v24H0V0z\" fill=\"none\"/>\n",
              "    <path d=\"M18.56 5.44l.94 2.06.94-2.06 2.06-.94-2.06-.94-.94-2.06-.94 2.06-2.06.94zm-11 1L8.5 8.5l.94-2.06 2.06-.94-2.06-.94L8.5 2.5l-.94 2.06-2.06.94zm10 10l.94 2.06.94-2.06 2.06-.94-2.06-.94-.94-2.06-.94 2.06-2.06.94z\"/><path d=\"M17.41 7.96l-1.37-1.37c-.4-.4-.92-.59-1.43-.59-.52 0-1.04.2-1.43.59L10.3 9.45l-7.72 7.72c-.78.78-.78 2.05 0 2.83L4 21.41c.39.39.9.59 1.41.59.51 0 1.02-.2 1.41-.59l7.78-7.78 2.81-2.81c.8-.78.8-2.07 0-2.86zM5.41 20L4 18.59l7.72-7.72 1.47 1.35L5.41 20z\"/>\n",
              "  </svg>\n",
              "      </button>\n",
              "      \n",
              "  <style>\n",
              "    .colab-df-container {\n",
              "      display:flex;\n",
              "      flex-wrap:wrap;\n",
              "      gap: 12px;\n",
              "    }\n",
              "\n",
              "    .colab-df-convert {\n",
              "      background-color: #E8F0FE;\n",
              "      border: none;\n",
              "      border-radius: 50%;\n",
              "      cursor: pointer;\n",
              "      display: none;\n",
              "      fill: #1967D2;\n",
              "      height: 32px;\n",
              "      padding: 0 0 0 0;\n",
              "      width: 32px;\n",
              "    }\n",
              "\n",
              "    .colab-df-convert:hover {\n",
              "      background-color: #E2EBFA;\n",
              "      box-shadow: 0px 1px 2px rgba(60, 64, 67, 0.3), 0px 1px 3px 1px rgba(60, 64, 67, 0.15);\n",
              "      fill: #174EA6;\n",
              "    }\n",
              "\n",
              "    [theme=dark] .colab-df-convert {\n",
              "      background-color: #3B4455;\n",
              "      fill: #D2E3FC;\n",
              "    }\n",
              "\n",
              "    [theme=dark] .colab-df-convert:hover {\n",
              "      background-color: #434B5C;\n",
              "      box-shadow: 0px 1px 3px 1px rgba(0, 0, 0, 0.15);\n",
              "      filter: drop-shadow(0px 1px 2px rgba(0, 0, 0, 0.3));\n",
              "      fill: #FFFFFF;\n",
              "    }\n",
              "  </style>\n",
              "\n",
              "      <script>\n",
              "        const buttonEl =\n",
              "          document.querySelector('#df-fe075426-c313-4337-9c67-7ec58a17787a button.colab-df-convert');\n",
              "        buttonEl.style.display =\n",
              "          google.colab.kernel.accessAllowed ? 'block' : 'none';\n",
              "\n",
              "        async function convertToInteractive(key) {\n",
              "          const element = document.querySelector('#df-fe075426-c313-4337-9c67-7ec58a17787a');\n",
              "          const dataTable =\n",
              "            await google.colab.kernel.invokeFunction('convertToInteractive',\n",
              "                                                     [key], {});\n",
              "          if (!dataTable) return;\n",
              "\n",
              "          const docLinkHtml = 'Like what you see? Visit the ' +\n",
              "            '<a target=\"_blank\" href=https://colab.research.google.com/notebooks/data_table.ipynb>data table notebook</a>'\n",
              "            + ' to learn more about interactive tables.';\n",
              "          element.innerHTML = '';\n",
              "          dataTable['output_type'] = 'display_data';\n",
              "          await google.colab.output.renderOutput(dataTable, element);\n",
              "          const docLink = document.createElement('div');\n",
              "          docLink.innerHTML = docLinkHtml;\n",
              "          element.appendChild(docLink);\n",
              "        }\n",
              "      </script>\n",
              "    </div>\n",
              "  </div>\n",
              "  "
            ]
          },
          "metadata": {},
          "execution_count": 3
        }
      ]
    },
    {
      "cell_type": "code",
      "source": [
        "offers.info()"
      ],
      "metadata": {
        "colab": {
          "base_uri": "https://localhost:8080/"
        },
        "id": "NAMZXKvAqm2j",
        "outputId": "3e5ace9e-d944-46ce-9949-01d257f3bc68"
      },
      "execution_count": null,
      "outputs": [
        {
          "output_type": "stream",
          "name": "stdout",
          "text": [
            "<class 'pandas.core.frame.DataFrame'>\n",
            "RangeIndex: 116508 entries, 0 to 116507\n",
            "Data columns (total 2 columns):\n",
            " #   Column    Non-Null Count   Dtype\n",
            "---  ------    --------------   -----\n",
            " 0   order_gk  116508 non-null  int64\n",
            " 1   offer_id  116508 non-null  int64\n",
            "dtypes: int64(2)\n",
            "memory usage: 1.8 MB\n"
          ]
        }
      ]
    },
    {
      "cell_type": "code",
      "source": [
        "order.head()"
      ],
      "metadata": {
        "colab": {
          "base_uri": "https://localhost:8080/",
          "height": 270
        },
        "id": "86tLYIDAqWMX",
        "outputId": "3ab8860e-5dbb-4485-9b16-d098d9b3e5ec"
      },
      "execution_count": null,
      "outputs": [
        {
          "output_type": "execute_result",
          "data": {
            "text/plain": [
              "  order_datetime  origin_longitude  origin_latitude  m_order_eta  \\\n",
              "0       18:08:07         -0.978916        51.456173         60.0   \n",
              "1       20:57:32         -0.950385        51.456843          NaN   \n",
              "2       12:07:50         -0.969520        51.455544        477.0   \n",
              "3       13:50:20         -1.054671        51.460544        658.0   \n",
              "4       21:24:45         -0.967605        51.458236          NaN   \n",
              "\n",
              "        order_gk  order_status_key  is_driver_assigned_key  \\\n",
              "0  3000583041974                 4                       1   \n",
              "1  3000583116437                 4                       0   \n",
              "2  3000582891479                 4                       1   \n",
              "3  3000582941169                 4                       1   \n",
              "4  3000583140877                 9                       0   \n",
              "\n",
              "   cancellations_time_in_seconds  \n",
              "0                          198.0  \n",
              "1                          128.0  \n",
              "2                           46.0  \n",
              "3                           62.0  \n",
              "4                            NaN  "
            ],
            "text/html": [
              "\n",
              "  <div id=\"df-7b427c49-e37a-4c96-9e4f-0c8a50f8d179\">\n",
              "    <div class=\"colab-df-container\">\n",
              "      <div>\n",
              "<style scoped>\n",
              "    .dataframe tbody tr th:only-of-type {\n",
              "        vertical-align: middle;\n",
              "    }\n",
              "\n",
              "    .dataframe tbody tr th {\n",
              "        vertical-align: top;\n",
              "    }\n",
              "\n",
              "    .dataframe thead th {\n",
              "        text-align: right;\n",
              "    }\n",
              "</style>\n",
              "<table border=\"1\" class=\"dataframe\">\n",
              "  <thead>\n",
              "    <tr style=\"text-align: right;\">\n",
              "      <th></th>\n",
              "      <th>order_datetime</th>\n",
              "      <th>origin_longitude</th>\n",
              "      <th>origin_latitude</th>\n",
              "      <th>m_order_eta</th>\n",
              "      <th>order_gk</th>\n",
              "      <th>order_status_key</th>\n",
              "      <th>is_driver_assigned_key</th>\n",
              "      <th>cancellations_time_in_seconds</th>\n",
              "    </tr>\n",
              "  </thead>\n",
              "  <tbody>\n",
              "    <tr>\n",
              "      <th>0</th>\n",
              "      <td>18:08:07</td>\n",
              "      <td>-0.978916</td>\n",
              "      <td>51.456173</td>\n",
              "      <td>60.0</td>\n",
              "      <td>3000583041974</td>\n",
              "      <td>4</td>\n",
              "      <td>1</td>\n",
              "      <td>198.0</td>\n",
              "    </tr>\n",
              "    <tr>\n",
              "      <th>1</th>\n",
              "      <td>20:57:32</td>\n",
              "      <td>-0.950385</td>\n",
              "      <td>51.456843</td>\n",
              "      <td>NaN</td>\n",
              "      <td>3000583116437</td>\n",
              "      <td>4</td>\n",
              "      <td>0</td>\n",
              "      <td>128.0</td>\n",
              "    </tr>\n",
              "    <tr>\n",
              "      <th>2</th>\n",
              "      <td>12:07:50</td>\n",
              "      <td>-0.969520</td>\n",
              "      <td>51.455544</td>\n",
              "      <td>477.0</td>\n",
              "      <td>3000582891479</td>\n",
              "      <td>4</td>\n",
              "      <td>1</td>\n",
              "      <td>46.0</td>\n",
              "    </tr>\n",
              "    <tr>\n",
              "      <th>3</th>\n",
              "      <td>13:50:20</td>\n",
              "      <td>-1.054671</td>\n",
              "      <td>51.460544</td>\n",
              "      <td>658.0</td>\n",
              "      <td>3000582941169</td>\n",
              "      <td>4</td>\n",
              "      <td>1</td>\n",
              "      <td>62.0</td>\n",
              "    </tr>\n",
              "    <tr>\n",
              "      <th>4</th>\n",
              "      <td>21:24:45</td>\n",
              "      <td>-0.967605</td>\n",
              "      <td>51.458236</td>\n",
              "      <td>NaN</td>\n",
              "      <td>3000583140877</td>\n",
              "      <td>9</td>\n",
              "      <td>0</td>\n",
              "      <td>NaN</td>\n",
              "    </tr>\n",
              "  </tbody>\n",
              "</table>\n",
              "</div>\n",
              "      <button class=\"colab-df-convert\" onclick=\"convertToInteractive('df-7b427c49-e37a-4c96-9e4f-0c8a50f8d179')\"\n",
              "              title=\"Convert this dataframe to an interactive table.\"\n",
              "              style=\"display:none;\">\n",
              "        \n",
              "  <svg xmlns=\"http://www.w3.org/2000/svg\" height=\"24px\"viewBox=\"0 0 24 24\"\n",
              "       width=\"24px\">\n",
              "    <path d=\"M0 0h24v24H0V0z\" fill=\"none\"/>\n",
              "    <path d=\"M18.56 5.44l.94 2.06.94-2.06 2.06-.94-2.06-.94-.94-2.06-.94 2.06-2.06.94zm-11 1L8.5 8.5l.94-2.06 2.06-.94-2.06-.94L8.5 2.5l-.94 2.06-2.06.94zm10 10l.94 2.06.94-2.06 2.06-.94-2.06-.94-.94-2.06-.94 2.06-2.06.94z\"/><path d=\"M17.41 7.96l-1.37-1.37c-.4-.4-.92-.59-1.43-.59-.52 0-1.04.2-1.43.59L10.3 9.45l-7.72 7.72c-.78.78-.78 2.05 0 2.83L4 21.41c.39.39.9.59 1.41.59.51 0 1.02-.2 1.41-.59l7.78-7.78 2.81-2.81c.8-.78.8-2.07 0-2.86zM5.41 20L4 18.59l7.72-7.72 1.47 1.35L5.41 20z\"/>\n",
              "  </svg>\n",
              "      </button>\n",
              "      \n",
              "  <style>\n",
              "    .colab-df-container {\n",
              "      display:flex;\n",
              "      flex-wrap:wrap;\n",
              "      gap: 12px;\n",
              "    }\n",
              "\n",
              "    .colab-df-convert {\n",
              "      background-color: #E8F0FE;\n",
              "      border: none;\n",
              "      border-radius: 50%;\n",
              "      cursor: pointer;\n",
              "      display: none;\n",
              "      fill: #1967D2;\n",
              "      height: 32px;\n",
              "      padding: 0 0 0 0;\n",
              "      width: 32px;\n",
              "    }\n",
              "\n",
              "    .colab-df-convert:hover {\n",
              "      background-color: #E2EBFA;\n",
              "      box-shadow: 0px 1px 2px rgba(60, 64, 67, 0.3), 0px 1px 3px 1px rgba(60, 64, 67, 0.15);\n",
              "      fill: #174EA6;\n",
              "    }\n",
              "\n",
              "    [theme=dark] .colab-df-convert {\n",
              "      background-color: #3B4455;\n",
              "      fill: #D2E3FC;\n",
              "    }\n",
              "\n",
              "    [theme=dark] .colab-df-convert:hover {\n",
              "      background-color: #434B5C;\n",
              "      box-shadow: 0px 1px 3px 1px rgba(0, 0, 0, 0.15);\n",
              "      filter: drop-shadow(0px 1px 2px rgba(0, 0, 0, 0.3));\n",
              "      fill: #FFFFFF;\n",
              "    }\n",
              "  </style>\n",
              "\n",
              "      <script>\n",
              "        const buttonEl =\n",
              "          document.querySelector('#df-7b427c49-e37a-4c96-9e4f-0c8a50f8d179 button.colab-df-convert');\n",
              "        buttonEl.style.display =\n",
              "          google.colab.kernel.accessAllowed ? 'block' : 'none';\n",
              "\n",
              "        async function convertToInteractive(key) {\n",
              "          const element = document.querySelector('#df-7b427c49-e37a-4c96-9e4f-0c8a50f8d179');\n",
              "          const dataTable =\n",
              "            await google.colab.kernel.invokeFunction('convertToInteractive',\n",
              "                                                     [key], {});\n",
              "          if (!dataTable) return;\n",
              "\n",
              "          const docLinkHtml = 'Like what you see? Visit the ' +\n",
              "            '<a target=\"_blank\" href=https://colab.research.google.com/notebooks/data_table.ipynb>data table notebook</a>'\n",
              "            + ' to learn more about interactive tables.';\n",
              "          element.innerHTML = '';\n",
              "          dataTable['output_type'] = 'display_data';\n",
              "          await google.colab.output.renderOutput(dataTable, element);\n",
              "          const docLink = document.createElement('div');\n",
              "          docLink.innerHTML = docLinkHtml;\n",
              "          element.appendChild(docLink);\n",
              "        }\n",
              "      </script>\n",
              "    </div>\n",
              "  </div>\n",
              "  "
            ]
          },
          "metadata": {},
          "execution_count": 5
        }
      ]
    },
    {
      "cell_type": "code",
      "source": [
        "order.info()"
      ],
      "metadata": {
        "colab": {
          "base_uri": "https://localhost:8080/"
        },
        "id": "8wfTN6Slqsha",
        "outputId": "701eac3b-fd14-43d1-ee06-dc1a19c0eed0"
      },
      "execution_count": null,
      "outputs": [
        {
          "output_type": "stream",
          "name": "stdout",
          "text": [
            "<class 'pandas.core.frame.DataFrame'>\n",
            "RangeIndex: 10716 entries, 0 to 10715\n",
            "Data columns (total 8 columns):\n",
            " #   Column                         Non-Null Count  Dtype  \n",
            "---  ------                         --------------  -----  \n",
            " 0   order_datetime                 10716 non-null  object \n",
            " 1   origin_longitude               10716 non-null  float64\n",
            " 2   origin_latitude                10716 non-null  float64\n",
            " 3   m_order_eta                    2814 non-null   float64\n",
            " 4   order_gk                       10716 non-null  int64  \n",
            " 5   order_status_key               10716 non-null  int64  \n",
            " 6   is_driver_assigned_key         10716 non-null  int64  \n",
            " 7   cancellations_time_in_seconds  7307 non-null   float64\n",
            "dtypes: float64(4), int64(3), object(1)\n",
            "memory usage: 669.9+ KB\n"
          ]
        }
      ]
    },
    {
      "cell_type": "markdown",
      "source": [
        "# **Data Preprocessing and Analysis:**"
      ],
      "metadata": {
        "id": "bpRWSwrasonm"
      }
    },
    {
      "cell_type": "code",
      "source": [
        "order.isna().mean().mul(100).round(2)"
      ],
      "metadata": {
        "colab": {
          "base_uri": "https://localhost:8080/"
        },
        "id": "2Yqw_oJ1suZ4",
        "outputId": "fb0b21b2-ad3c-4738-e71a-3a7ad1353e27"
      },
      "execution_count": null,
      "outputs": [
        {
          "output_type": "execute_result",
          "data": {
            "text/plain": [
              "order_datetime                    0.00\n",
              "origin_longitude                  0.00\n",
              "origin_latitude                   0.00\n",
              "m_order_eta                      73.74\n",
              "order_gk                          0.00\n",
              "order_status_key                  0.00\n",
              "is_driver_assigned_key            0.00\n",
              "cancellations_time_in_seconds    31.81\n",
              "dtype: float64"
            ]
          },
          "metadata": {},
          "execution_count": 7
        }
      ]
    },
    {
      "cell_type": "markdown",
      "source": [
        "\n",
        "\n",
        "*   73% of data in the `column m_order_eta` is null or empty\n",
        "*   31% of data in the `cancellation_time_in_seconds` is null or empty\n",
        "\n"
      ],
      "metadata": {
        "id": "Ft8ZFnlj4Pht"
      }
    },
    {
      "cell_type": "code",
      "source": [
        "offers.isna().mean().mul(100).round(2)"
      ],
      "metadata": {
        "colab": {
          "base_uri": "https://localhost:8080/"
        },
        "id": "vR1s_fyg3vMa",
        "outputId": "3d11a802-60d4-4275-caf9-c111c2c08065"
      },
      "execution_count": null,
      "outputs": [
        {
          "output_type": "execute_result",
          "data": {
            "text/plain": [
              "order_gk    0.0\n",
              "offer_id    0.0\n",
              "dtype: float64"
            ]
          },
          "metadata": {},
          "execution_count": 8
        }
      ]
    },
    {
      "cell_type": "markdown",
      "source": [
        "***1. Distribution of Cancellations***"
      ],
      "metadata": {
        "id": "T0bmlAobrXb6"
      }
    },
    {
      "cell_type": "code",
      "source": [
        "#distribution of cancellations\n",
        "plot = order.groupby(['is_driver_assigned_key', 'order_status_key'])['order_gk'].count().reset_index()\n",
        "plot"
      ],
      "metadata": {
        "colab": {
          "base_uri": "https://localhost:8080/",
          "height": 174
        },
        "id": "iLqIcs9rpWoS",
        "outputId": "701e57fc-ab61-4493-e7be-5f9553adc5d9"
      },
      "execution_count": null,
      "outputs": [
        {
          "output_type": "execute_result",
          "data": {
            "text/plain": [
              "   is_driver_assigned_key  order_status_key  order_gk\n",
              "0                       0                 4      4496\n",
              "1                       0                 9      3406\n",
              "2                       1                 4      2811\n",
              "3                       1                 9         3"
            ],
            "text/html": [
              "\n",
              "  <div id=\"df-48f6355a-9ac2-46ce-b4e0-21ede61518b1\">\n",
              "    <div class=\"colab-df-container\">\n",
              "      <div>\n",
              "<style scoped>\n",
              "    .dataframe tbody tr th:only-of-type {\n",
              "        vertical-align: middle;\n",
              "    }\n",
              "\n",
              "    .dataframe tbody tr th {\n",
              "        vertical-align: top;\n",
              "    }\n",
              "\n",
              "    .dataframe thead th {\n",
              "        text-align: right;\n",
              "    }\n",
              "</style>\n",
              "<table border=\"1\" class=\"dataframe\">\n",
              "  <thead>\n",
              "    <tr style=\"text-align: right;\">\n",
              "      <th></th>\n",
              "      <th>is_driver_assigned_key</th>\n",
              "      <th>order_status_key</th>\n",
              "      <th>order_gk</th>\n",
              "    </tr>\n",
              "  </thead>\n",
              "  <tbody>\n",
              "    <tr>\n",
              "      <th>0</th>\n",
              "      <td>0</td>\n",
              "      <td>4</td>\n",
              "      <td>4496</td>\n",
              "    </tr>\n",
              "    <tr>\n",
              "      <th>1</th>\n",
              "      <td>0</td>\n",
              "      <td>9</td>\n",
              "      <td>3406</td>\n",
              "    </tr>\n",
              "    <tr>\n",
              "      <th>2</th>\n",
              "      <td>1</td>\n",
              "      <td>4</td>\n",
              "      <td>2811</td>\n",
              "    </tr>\n",
              "    <tr>\n",
              "      <th>3</th>\n",
              "      <td>1</td>\n",
              "      <td>9</td>\n",
              "      <td>3</td>\n",
              "    </tr>\n",
              "  </tbody>\n",
              "</table>\n",
              "</div>\n",
              "      <button class=\"colab-df-convert\" onclick=\"convertToInteractive('df-48f6355a-9ac2-46ce-b4e0-21ede61518b1')\"\n",
              "              title=\"Convert this dataframe to an interactive table.\"\n",
              "              style=\"display:none;\">\n",
              "        \n",
              "  <svg xmlns=\"http://www.w3.org/2000/svg\" height=\"24px\"viewBox=\"0 0 24 24\"\n",
              "       width=\"24px\">\n",
              "    <path d=\"M0 0h24v24H0V0z\" fill=\"none\"/>\n",
              "    <path d=\"M18.56 5.44l.94 2.06.94-2.06 2.06-.94-2.06-.94-.94-2.06-.94 2.06-2.06.94zm-11 1L8.5 8.5l.94-2.06 2.06-.94-2.06-.94L8.5 2.5l-.94 2.06-2.06.94zm10 10l.94 2.06.94-2.06 2.06-.94-2.06-.94-.94-2.06-.94 2.06-2.06.94z\"/><path d=\"M17.41 7.96l-1.37-1.37c-.4-.4-.92-.59-1.43-.59-.52 0-1.04.2-1.43.59L10.3 9.45l-7.72 7.72c-.78.78-.78 2.05 0 2.83L4 21.41c.39.39.9.59 1.41.59.51 0 1.02-.2 1.41-.59l7.78-7.78 2.81-2.81c.8-.78.8-2.07 0-2.86zM5.41 20L4 18.59l7.72-7.72 1.47 1.35L5.41 20z\"/>\n",
              "  </svg>\n",
              "      </button>\n",
              "      \n",
              "  <style>\n",
              "    .colab-df-container {\n",
              "      display:flex;\n",
              "      flex-wrap:wrap;\n",
              "      gap: 12px;\n",
              "    }\n",
              "\n",
              "    .colab-df-convert {\n",
              "      background-color: #E8F0FE;\n",
              "      border: none;\n",
              "      border-radius: 50%;\n",
              "      cursor: pointer;\n",
              "      display: none;\n",
              "      fill: #1967D2;\n",
              "      height: 32px;\n",
              "      padding: 0 0 0 0;\n",
              "      width: 32px;\n",
              "    }\n",
              "\n",
              "    .colab-df-convert:hover {\n",
              "      background-color: #E2EBFA;\n",
              "      box-shadow: 0px 1px 2px rgba(60, 64, 67, 0.3), 0px 1px 3px 1px rgba(60, 64, 67, 0.15);\n",
              "      fill: #174EA6;\n",
              "    }\n",
              "\n",
              "    [theme=dark] .colab-df-convert {\n",
              "      background-color: #3B4455;\n",
              "      fill: #D2E3FC;\n",
              "    }\n",
              "\n",
              "    [theme=dark] .colab-df-convert:hover {\n",
              "      background-color: #434B5C;\n",
              "      box-shadow: 0px 1px 3px 1px rgba(0, 0, 0, 0.15);\n",
              "      filter: drop-shadow(0px 1px 2px rgba(0, 0, 0, 0.3));\n",
              "      fill: #FFFFFF;\n",
              "    }\n",
              "  </style>\n",
              "\n",
              "      <script>\n",
              "        const buttonEl =\n",
              "          document.querySelector('#df-48f6355a-9ac2-46ce-b4e0-21ede61518b1 button.colab-df-convert');\n",
              "        buttonEl.style.display =\n",
              "          google.colab.kernel.accessAllowed ? 'block' : 'none';\n",
              "\n",
              "        async function convertToInteractive(key) {\n",
              "          const element = document.querySelector('#df-48f6355a-9ac2-46ce-b4e0-21ede61518b1');\n",
              "          const dataTable =\n",
              "            await google.colab.kernel.invokeFunction('convertToInteractive',\n",
              "                                                     [key], {});\n",
              "          if (!dataTable) return;\n",
              "\n",
              "          const docLinkHtml = 'Like what you see? Visit the ' +\n",
              "            '<a target=\"_blank\" href=https://colab.research.google.com/notebooks/data_table.ipynb>data table notebook</a>'\n",
              "            + ' to learn more about interactive tables.';\n",
              "          element.innerHTML = '';\n",
              "          dataTable['output_type'] = 'display_data';\n",
              "          await google.colab.output.renderOutput(dataTable, element);\n",
              "          const docLink = document.createElement('div');\n",
              "          docLink.innerHTML = docLinkHtml;\n",
              "          element.appendChild(docLink);\n",
              "        }\n",
              "      </script>\n",
              "    </div>\n",
              "  </div>\n",
              "  "
            ]
          },
          "metadata": {},
          "execution_count": 9
        }
      ]
    },
    {
      "cell_type": "code",
      "source": [
        "order[order['is_driver_assigned_key']==0]['order_status_key'].value_counts(normalize=True)"
      ],
      "metadata": {
        "colab": {
          "base_uri": "https://localhost:8080/"
        },
        "id": "uEdMoxULqnfU",
        "outputId": "5120ae4f-fb4c-4f6e-f06e-76517d38ceda"
      },
      "execution_count": null,
      "outputs": [
        {
          "output_type": "execute_result",
          "data": {
            "text/plain": [
              "4    0.56897\n",
              "9    0.43103\n",
              "Name: order_status_key, dtype: float64"
            ]
          },
          "metadata": {},
          "execution_count": 10
        }
      ]
    },
    {
      "cell_type": "code",
      "source": [
        "order[order['is_driver_assigned_key']==1]['order_status_key'].value_counts(normalize=True)"
      ],
      "metadata": {
        "colab": {
          "base_uri": "https://localhost:8080/"
        },
        "id": "DQ_S3UocrTeD",
        "outputId": "82845b47-875b-48df-ac0a-7b0510796ec4"
      },
      "execution_count": null,
      "outputs": [
        {
          "output_type": "execute_result",
          "data": {
            "text/plain": [
              "4    0.998934\n",
              "9    0.001066\n",
              "Name: order_status_key, dtype: float64"
            ]
          },
          "metadata": {},
          "execution_count": 11
        }
      ]
    },
    {
      "cell_type": "code",
      "source": [
        "order['is_cancelled_by_customer'] = (order['order_status_key']==4)*1"
      ],
      "metadata": {
        "id": "6rmYhzpmrv2e"
      },
      "execution_count": null,
      "outputs": []
    },
    {
      "cell_type": "code",
      "source": [
        "cancel_plot = sns.barplot(data = plot, x = 'order_status_key', y = 'order_gk', hue = 'is_driver_assigned_key')\n",
        "cancel_plot.set_title('Distribution of orders by reasons of failure')\n",
        "cancel_plot.set_ylabel('The number of orders')\n",
        "cancel_plot.set_xlabel('Category')"
      ],
      "metadata": {
        "colab": {
          "base_uri": "https://localhost:8080/",
          "height": 490
        },
        "id": "VayI65WZsOm2",
        "outputId": "e9c0c119-8ed9-4650-f1ec-94c04e0622da"
      },
      "execution_count": null,
      "outputs": [
        {
          "output_type": "execute_result",
          "data": {
            "text/plain": [
              "Text(0.5, 0, 'Category')"
            ]
          },
          "metadata": {},
          "execution_count": 13
        },
        {
          "output_type": "display_data",
          "data": {
            "text/plain": [
              "<Figure size 640x480 with 1 Axes>"
            ],
            "image/png": "[encoded data removed]"
          },
          "metadata": {}
        }
      ]
    },
    {
      "cell_type": "markdown",
      "source": [
        "* Client cancelations are higher than the company rejections."
      ],
      "metadata": {
        "id": "D8nzItDrCyKi"
      }
    },
    {
      "cell_type": "code",
      "source": [
        "\n",
        "sns.barplot(\n",
        "    x='is_driver_assigned_key',\n",
        "    y='order_gk',\n",
        "    data=plot,\n",
        "    alpha = 0.5\n",
        "    )\n",
        "\n",
        "plt.xlabel(\"Is driver assigned\", size=15, labelpad=10)\n",
        "plt.ylabel(\"Count of cancellations\", size=15, labelpad=10)\n",
        "plt.title(\"Order canceled by user\", size=20)\n",
        "sns.despine()"
      ],
      "metadata": {
        "colab": {
          "base_uri": "https://localhost:8080/",
          "height": 494
        },
        "id": "cAKpdP1F7YpH",
        "outputId": "b2cdded9-a722-4fbe-f052-3b081629b703"
      },
      "execution_count": null,
      "outputs": [
        {
          "output_type": "display_data",
          "data": {
            "text/plain": [
              "<Figure size 640x480 with 1 Axes>"
            ],
            "image/png": "[encoded data removed]"
          },
          "metadata": {}
        }
      ]
    },
    {
      "cell_type": "markdown",
      "source": [
        "***2. Cancelation by time***"
      ],
      "metadata": {
        "id": "oSOYCLoNCoEQ"
      }
    },
    {
      "cell_type": "code",
      "source": [
        "order['hours'] = order['order_datetime'].str[:2]"
      ],
      "metadata": {
        "id": "_wJVm8ODAhf0"
      },
      "execution_count": null,
      "outputs": []
    },
    {
      "cell_type": "code",
      "source": [
        "order"
      ],
      "metadata": {
        "colab": {
          "base_uri": "https://localhost:8080/",
          "height": 487
        },
        "id": "-p9pdH70BHrn",
        "outputId": "3bd1e69d-8cef-4dc4-fb55-5a022684a221"
      },
      "execution_count": null,
      "outputs": [
        {
          "output_type": "execute_result",
          "data": {
            "text/plain": [
              "      order_datetime  origin_longitude  origin_latitude  m_order_eta  \\\n",
              "0           18:08:07         -0.978916        51.456173         60.0   \n",
              "1           20:57:32         -0.950385        51.456843          NaN   \n",
              "2           12:07:50         -0.969520        51.455544        477.0   \n",
              "3           13:50:20         -1.054671        51.460544        658.0   \n",
              "4           21:24:45         -0.967605        51.458236          NaN   \n",
              "...              ...               ...              ...          ...   \n",
              "10711       13:11:35         -0.975372        51.457846          NaN   \n",
              "10712       13:13:55         -0.975372        51.457846          NaN   \n",
              "10713       13:17:21         -0.972926        51.457693         60.0   \n",
              "10714       13:16:28         -0.975372        51.457846          NaN   \n",
              "10715       11:49:35         -0.974738        51.458180        177.0   \n",
              "\n",
              "            order_gk  order_status_key  is_driver_assigned_key  \\\n",
              "0      3000583041974                 4                       1   \n",
              "1      3000583116437                 4                       0   \n",
              "2      3000582891479                 4                       1   \n",
              "3      3000582941169                 4                       1   \n",
              "4      3000583140877                 9                       0   \n",
              "...              ...               ...                     ...   \n",
              "10711  3000599186906                 4                       0   \n",
              "10712  3000599186962                 4                       0   \n",
              "10713  3000599187034                 4                       1   \n",
              "10714  3000599187024                 4                       0   \n",
              "10715  3000592871241                 4                       1   \n",
              "\n",
              "       cancellations_time_in_seconds  is_cancelled_by_customer hours  \n",
              "0                              198.0                         1    18  \n",
              "1                              128.0                         1    20  \n",
              "2                               46.0                         1    12  \n",
              "3                               62.0                         1    13  \n",
              "4                                NaN                         0    21  \n",
              "...                              ...                       ...   ...  \n",
              "10711                           36.0                         1    13  \n",
              "10712                            4.0                         1    13  \n",
              "10713                           34.0                         1    13  \n",
              "10714                            6.0                         1    13  \n",
              "10715                           40.0                         1    11  \n",
              "\n",
              "[10716 rows x 10 columns]"
            ],
            "text/html": [
              "\n",
              "  <div id=\"df-ed9e77c2-6bbf-4c21-b9d7-bd7455389441\">\n",
              "    <div class=\"colab-df-container\">\n",
              "      <div>\n",
              "<style scoped>\n",
              "    .dataframe tbody tr th:only-of-type {\n",
              "        vertical-align: middle;\n",
              "    }\n",
              "\n",
              "    .dataframe tbody tr th {\n",
              "        vertical-align: top;\n",
              "    }\n",
              "\n",
              "    .dataframe thead th {\n",
              "        text-align: right;\n",
              "    }\n",
              "</style>\n",
              "<table border=\"1\" class=\"dataframe\">\n",
              "  <thead>\n",
              "    <tr style=\"text-align: right;\">\n",
              "      <th></th>\n",
              "      <th>order_datetime</th>\n",
              "      <th>origin_longitude</th>\n",
              "      <th>origin_latitude</th>\n",
              "      <th>m_order_eta</th>\n",
              "      <th>order_gk</th>\n",
              "      <th>order_status_key</th>\n",
              "      <th>is_driver_assigned_key</th>\n",
              "      <th>cancellations_time_in_seconds</th>\n",
              "      <th>is_cancelled_by_customer</th>\n",
              "      <th>hours</th>\n",
              "    </tr>\n",
              "  </thead>\n",
              "  <tbody>\n",
              "    <tr>\n",
              "      <th>0</th>\n",
              "      <td>18:08:07</td>\n",
              "      <td>-0.978916</td>\n",
              "      <td>51.456173</td>\n",
              "      <td>60.0</td>\n",
              "      <td>3000583041974</td>\n",
              "      <td>4</td>\n",
              "      <td>1</td>\n",
              "      <td>198.0</td>\n",
              "      <td>1</td>\n",
              "      <td>18</td>\n",
              "    </tr>\n",
              "    <tr>\n",
              "      <th>1</th>\n",
              "      <td>20:57:32</td>\n",
              "      <td>-0.950385</td>\n",
              "      <td>51.456843</td>\n",
              "      <td>NaN</td>\n",
              "      <td>3000583116437</td>\n",
              "      <td>4</td>\n",
              "      <td>0</td>\n",
              "      <td>128.0</td>\n",
              "      <td>1</td>\n",
              "      <td>20</td>\n",
              "    </tr>\n",
              "    <tr>\n",
              "      <th>2</th>\n",
              "      <td>12:07:50</td>\n",
              "      <td>-0.969520</td>\n",
              "      <td>51.455544</td>\n",
              "      <td>477.0</td>\n",
              "      <td>3000582891479</td>\n",
              "      <td>4</td>\n",
              "      <td>1</td>\n",
              "      <td>46.0</td>\n",
              "      <td>1</td>\n",
              "      <td>12</td>\n",
              "    </tr>\n",
              "    <tr>\n",
              "      <th>3</th>\n",
              "      <td>13:50:20</td>\n",
              "      <td>-1.054671</td>\n",
              "      <td>51.460544</td>\n",
              "      <td>658.0</td>\n",
              "      <td>3000582941169</td>\n",
              "      <td>4</td>\n",
              "      <td>1</td>\n",
              "      <td>62.0</td>\n",
              "      <td>1</td>\n",
              "      <td>13</td>\n",
              "    </tr>\n",
              "    <tr>\n",
              "      <th>4</th>\n",
              "      <td>21:24:45</td>\n",
              "      <td>-0.967605</td>\n",
              "      <td>51.458236</td>\n",
              "      <td>NaN</td>\n",
              "      <td>3000583140877</td>\n",
              "      <td>9</td>\n",
              "      <td>0</td>\n",
              "      <td>NaN</td>\n",
              "      <td>0</td>\n",
              "      <td>21</td>\n",
              "    </tr>\n",
              "    <tr>\n",
              "      <th>...</th>\n",
              "      <td>...</td>\n",
              "      <td>...</td>\n",
              "      <td>...</td>\n",
              "      <td>...</td>\n",
              "      <td>...</td>\n",
              "      <td>...</td>\n",
              "      <td>...</td>\n",
              "      <td>...</td>\n",
              "      <td>...</td>\n",
              "      <td>...</td>\n",
              "    </tr>\n",
              "    <tr>\n",
              "      <th>10711</th>\n",
              "      <td>13:11:35</td>\n",
              "      <td>-0.975372</td>\n",
              "      <td>51.457846</td>\n",
              "      <td>NaN</td>\n",
              "      <td>3000599186906</td>\n",
              "      <td>4</td>\n",
              "      <td>0</td>\n",
              "      <td>36.0</td>\n",
              "      <td>1</td>\n",
              "      <td>13</td>\n",
              "    </tr>\n",
              "    <tr>\n",
              "      <th>10712</th>\n",
              "      <td>13:13:55</td>\n",
              "      <td>-0.975372</td>\n",
              "      <td>51.457846</td>\n",
              "      <td>NaN</td>\n",
              "      <td>3000599186962</td>\n",
              "      <td>4</td>\n",
              "      <td>0</td>\n",
              "      <td>4.0</td>\n",
              "      <td>1</td>\n",
              "      <td>13</td>\n",
              "    </tr>\n",
              "    <tr>\n",
              "      <th>10713</th>\n",
              "      <td>13:17:21</td>\n",
              "      <td>-0.972926</td>\n",
              "      <td>51.457693</td>\n",
              "      <td>60.0</td>\n",
              "      <td>3000599187034</td>\n",
              "      <td>4</td>\n",
              "      <td>1</td>\n",
              "      <td>34.0</td>\n",
              "      <td>1</td>\n",
              "      <td>13</td>\n",
              "    </tr>\n",
              "    <tr>\n",
              "      <th>10714</th>\n",
              "      <td>13:16:28</td>\n",
              "      <td>-0.975372</td>\n",
              "      <td>51.457846</td>\n",
              "      <td>NaN</td>\n",
              "      <td>3000599187024</td>\n",
              "      <td>4</td>\n",
              "      <td>0</td>\n",
              "      <td>6.0</td>\n",
              "      <td>1</td>\n",
              "      <td>13</td>\n",
              "    </tr>\n",
              "    <tr>\n",
              "      <th>10715</th>\n",
              "      <td>11:49:35</td>\n",
              "      <td>-0.974738</td>\n",
              "      <td>51.458180</td>\n",
              "      <td>177.0</td>\n",
              "      <td>3000592871241</td>\n",
              "      <td>4</td>\n",
              "      <td>1</td>\n",
              "      <td>40.0</td>\n",
              "      <td>1</td>\n",
              "      <td>11</td>\n",
              "    </tr>\n",
              "  </tbody>\n",
              "</table>\n",
              "<p>10716 rows × 10 columns</p>\n",
              "</div>\n",
              "      <button class=\"colab-df-convert\" onclick=\"convertToInteractive('df-ed9e77c2-6bbf-4c21-b9d7-bd7455389441')\"\n",
              "              title=\"Convert this dataframe to an interactive table.\"\n",
              "              style=\"display:none;\">\n",
              "        \n",
              "  <svg xmlns=\"http://www.w3.org/2000/svg\" height=\"24px\"viewBox=\"0 0 24 24\"\n",
              "       width=\"24px\">\n",
              "    <path d=\"M0 0h24v24H0V0z\" fill=\"none\"/>\n",
              "    <path d=\"M18.56 5.44l.94 2.06.94-2.06 2.06-.94-2.06-.94-.94-2.06-.94 2.06-2.06.94zm-11 1L8.5 8.5l.94-2.06 2.06-.94-2.06-.94L8.5 2.5l-.94 2.06-2.06.94zm10 10l.94 2.06.94-2.06 2.06-.94-2.06-.94-.94-2.06-.94 2.06-2.06.94z\"/><path d=\"M17.41 7.96l-1.37-1.37c-.4-.4-.92-.59-1.43-.59-.52 0-1.04.2-1.43.59L10.3 9.45l-7.72 7.72c-.78.78-.78 2.05 0 2.83L4 21.41c.39.39.9.59 1.41.59.51 0 1.02-.2 1.41-.59l7.78-7.78 2.81-2.81c.8-.78.8-2.07 0-2.86zM5.41 20L4 18.59l7.72-7.72 1.47 1.35L5.41 20z\"/>\n",
              "  </svg>\n",
              "      </button>\n",
              "      \n",
              "  <style>\n",
              "    .colab-df-container {\n",
              "      display:flex;\n",
              "      flex-wrap:wrap;\n",
              "      gap: 12px;\n",
              "    }\n",
              "\n",
              "    .colab-df-convert {\n",
              "      background-color: #E8F0FE;\n",
              "      border: none;\n",
              "      border-radius: 50%;\n",
              "      cursor: pointer;\n",
              "      display: none;\n",
              "      fill: #1967D2;\n",
              "      height: 32px;\n",
              "      padding: 0 0 0 0;\n",
              "      width: 32px;\n",
              "    }\n",
              "\n",
              "    .colab-df-convert:hover {\n",
              "      background-color: #E2EBFA;\n",
              "      box-shadow: 0px 1px 2px rgba(60, 64, 67, 0.3), 0px 1px 3px 1px rgba(60, 64, 67, 0.15);\n",
              "      fill: #174EA6;\n",
              "    }\n",
              "\n",
              "    [theme=dark] .colab-df-convert {\n",
              "      background-color: #3B4455;\n",
              "      fill: #D2E3FC;\n",
              "    }\n",
              "\n",
              "    [theme=dark] .colab-df-convert:hover {\n",
              "      background-color: #434B5C;\n",
              "      box-shadow: 0px 1px 3px 1px rgba(0, 0, 0, 0.15);\n",
              "      filter: drop-shadow(0px 1px 2px rgba(0, 0, 0, 0.3));\n",
              "      fill: #FFFFFF;\n",
              "    }\n",
              "  </style>\n",
              "\n",
              "      <script>\n",
              "        const buttonEl =\n",
              "          document.querySelector('#df-ed9e77c2-6bbf-4c21-b9d7-bd7455389441 button.colab-df-convert');\n",
              "        buttonEl.style.display =\n",
              "          google.colab.kernel.accessAllowed ? 'block' : 'none';\n",
              "\n",
              "        async function convertToInteractive(key) {\n",
              "          const element = document.querySelector('#df-ed9e77c2-6bbf-4c21-b9d7-bd7455389441');\n",
              "          const dataTable =\n",
              "            await google.colab.kernel.invokeFunction('convertToInteractive',\n",
              "                                                     [key], {});\n",
              "          if (!dataTable) return;\n",
              "\n",
              "          const docLinkHtml = 'Like what you see? Visit the ' +\n",
              "            '<a target=\"_blank\" href=https://colab.research.google.com/notebooks/data_table.ipynb>data table notebook</a>'\n",
              "            + ' to learn more about interactive tables.';\n",
              "          element.innerHTML = '';\n",
              "          dataTable['output_type'] = 'display_data';\n",
              "          await google.colab.output.renderOutput(dataTable, element);\n",
              "          const docLink = document.createElement('div');\n",
              "          docLink.innerHTML = docLinkHtml;\n",
              "          element.appendChild(docLink);\n",
              "        }\n",
              "      </script>\n",
              "    </div>\n",
              "  </div>\n",
              "  "
            ]
          },
          "metadata": {},
          "execution_count": 16
        }
      ]
    },
    {
      "cell_type": "code",
      "source": [
        "client_cans = order[order['order_status_key']==4].groupby('hours')['is_cancelled_by_customer'].agg(['count'])"
      ],
      "metadata": {
        "id": "ynL6UMjf-oOY"
      },
      "execution_count": null,
      "outputs": []
    },
    {
      "cell_type": "code",
      "source": [
        "reject_cans = order[order['order_status_key']==9].groupby('hours')['is_cancelled_by_customer'].agg(['count'])"
      ],
      "metadata": {
        "id": "J5RHK0dCBNn7"
      },
      "execution_count": null,
      "outputs": []
    },
    {
      "cell_type": "code",
      "source": [
        "a = sns.lineplot(data=reject_cans,  x = 'hours', y = 'count', color = 'red')\n",
        "b = sns.lineplot(data=client_cans,  x = 'hours', y = 'count', color = 'green')\n",
        "\n",
        "a.set_xlabel('Time')\n",
        "a.set_ylabel('No of orders')"
      ],
      "metadata": {
        "colab": {
          "base_uri": "https://localhost:8080/",
          "height": 467
        },
        "id": "SGvGJBbjBNkP",
        "outputId": "34a49d47-3484-4d4d-d834-e75e2a4a9f5c"
      },
      "execution_count": null,
      "outputs": [
        {
          "output_type": "execute_result",
          "data": {
            "text/plain": [
              "Text(0, 0.5, 'No of orders')"
            ]
          },
          "metadata": {},
          "execution_count": 19
        },
        {
          "output_type": "display_data",
          "data": {
            "text/plain": [
              "<Figure size 640x480 with 1 Axes>"
            ],
            "image/png": "[encoded data removed]"
          },
          "metadata": {}
        }
      ]
    },
    {
      "cell_type": "markdown",
      "source": [
        "A sharp increase in cancelations can be seen at around 8:00AM in both client refusals and rejections by the app."
      ],
      "metadata": {
        "id": "amY7VyUBCQSq"
      }
    },
    {
      "cell_type": "code",
      "source": [
        "no_driver = order.query('is_driver_assigned_key == 0').groupby('order_status_key').agg({'order_gk' : 'count'}).reset_index()"
      ],
      "metadata": {
        "id": "t7QxD8smDB-_"
      },
      "execution_count": null,
      "outputs": []
    },
    {
      "cell_type": "code",
      "source": [
        "no_driver['distribution'] = no_driver['order_gk']/no_driver['order_gk'].sum()"
      ],
      "metadata": {
        "id": "GPOJMmdfCDiJ"
      },
      "execution_count": null,
      "outputs": []
    },
    {
      "cell_type": "code",
      "source": [
        "with_driver = order.query('is_driver_assigned_key == 1').groupby('order_status_key').agg({'order_gk' : 'count'}).reset_index()"
      ],
      "metadata": {
        "id": "UifYs5e7Ce99"
      },
      "execution_count": null,
      "outputs": []
    },
    {
      "cell_type": "code",
      "source": [
        "with_driver['distribution'] = with_driver['order_gk']/with_driver['order_gk'].sum()"
      ],
      "metadata": {
        "id": "gtc1KlUQCpfy"
      },
      "execution_count": null,
      "outputs": []
    },
    {
      "cell_type": "code",
      "source": [
        "print(no_driver['distribution'].round(3))\n",
        "print(with_driver['distribution'].round(3))"
      ],
      "metadata": {
        "colab": {
          "base_uri": "https://localhost:8080/"
        },
        "id": "HX6VD1ySCx44",
        "outputId": "85adf74f-899b-4779-f68e-759f9f0dbfb6"
      },
      "execution_count": null,
      "outputs": [
        {
          "output_type": "stream",
          "name": "stdout",
          "text": [
            "0    0.569\n",
            "1    0.431\n",
            "Name: distribution, dtype: float64\n",
            "0    0.999\n",
            "1    0.001\n",
            "Name: distribution, dtype: float64\n"
          ]
        }
      ]
    },
    {
      "cell_type": "markdown",
      "source": [
        "\n",
        "\n",
        "*   If a driver is assigned, customer-initiated cancelations are upto 57% of orders, while the system cancels around 43% of the orders\n",
        "*   If no driver is assigned, customer-initiated cancelations are upto 99% of orders and system cancels 1% of the order\n"
      ],
      "metadata": {
        "id": "q6Zer0BkDdcG"
      }
    },
    {
      "cell_type": "markdown",
      "source": [
        "***3. Average time to cancel the ride with and without the driver being assigned***"
      ],
      "metadata": {
        "id": "9PzGtot3EgRN"
      }
    },
    {
      "cell_type": "code",
      "source": [
        "order.head()"
      ],
      "metadata": {
        "colab": {
          "base_uri": "https://localhost:8080/",
          "height": 270
        },
        "id": "ljKAXwP4FM65",
        "outputId": "7a9ce11c-43b6-41d6-ccf1-e6066234f698"
      },
      "execution_count": null,
      "outputs": [
        {
          "output_type": "execute_result",
          "data": {
            "text/plain": [
              "  order_datetime  origin_longitude  origin_latitude  m_order_eta  \\\n",
              "0       18:08:07         -0.978916        51.456173         60.0   \n",
              "1       20:57:32         -0.950385        51.456843          NaN   \n",
              "2       12:07:50         -0.969520        51.455544        477.0   \n",
              "3       13:50:20         -1.054671        51.460544        658.0   \n",
              "4       21:24:45         -0.967605        51.458236          NaN   \n",
              "\n",
              "        order_gk  order_status_key  is_driver_assigned_key  \\\n",
              "0  3000583041974                 4                       1   \n",
              "1  3000583116437                 4                       0   \n",
              "2  3000582891479                 4                       1   \n",
              "3  3000582941169                 4                       1   \n",
              "4  3000583140877                 9                       0   \n",
              "\n",
              "   cancellations_time_in_seconds  is_cancelled_by_customer hours  \n",
              "0                          198.0                         1    18  \n",
              "1                          128.0                         1    20  \n",
              "2                           46.0                         1    12  \n",
              "3                           62.0                         1    13  \n",
              "4                            NaN                         0    21  "
            ],
            "text/html": [
              "\n",
              "  <div id=\"df-19d3dcda-68a5-4d73-aa2d-9e37988d6a03\">\n",
              "    <div class=\"colab-df-container\">\n",
              "      <div>\n",
              "<style scoped>\n",
              "    .dataframe tbody tr th:only-of-type {\n",
              "        vertical-align: middle;\n",
              "    }\n",
              "\n",
              "    .dataframe tbody tr th {\n",
              "        vertical-align: top;\n",
              "    }\n",
              "\n",
              "    .dataframe thead th {\n",
              "        text-align: right;\n",
              "    }\n",
              "</style>\n",
              "<table border=\"1\" class=\"dataframe\">\n",
              "  <thead>\n",
              "    <tr style=\"text-align: right;\">\n",
              "      <th></th>\n",
              "      <th>order_datetime</th>\n",
              "      <th>origin_longitude</th>\n",
              "      <th>origin_latitude</th>\n",
              "      <th>m_order_eta</th>\n",
              "      <th>order_gk</th>\n",
              "      <th>order_status_key</th>\n",
              "      <th>is_driver_assigned_key</th>\n",
              "      <th>cancellations_time_in_seconds</th>\n",
              "      <th>is_cancelled_by_customer</th>\n",
              "      <th>hours</th>\n",
              "    </tr>\n",
              "  </thead>\n",
              "  <tbody>\n",
              "    <tr>\n",
              "      <th>0</th>\n",
              "      <td>18:08:07</td>\n",
              "      <td>-0.978916</td>\n",
              "      <td>51.456173</td>\n",
              "      <td>60.0</td>\n",
              "      <td>3000583041974</td>\n",
              "      <td>4</td>\n",
              "      <td>1</td>\n",
              "      <td>198.0</td>\n",
              "      <td>1</td>\n",
              "      <td>18</td>\n",
              "    </tr>\n",
              "    <tr>\n",
              "      <th>1</th>\n",
              "      <td>20:57:32</td>\n",
              "      <td>-0.950385</td>\n",
              "      <td>51.456843</td>\n",
              "      <td>NaN</td>\n",
              "      <td>3000583116437</td>\n",
              "      <td>4</td>\n",
              "      <td>0</td>\n",
              "      <td>128.0</td>\n",
              "      <td>1</td>\n",
              "      <td>20</td>\n",
              "    </tr>\n",
              "    <tr>\n",
              "      <th>2</th>\n",
              "      <td>12:07:50</td>\n",
              "      <td>-0.969520</td>\n",
              "      <td>51.455544</td>\n",
              "      <td>477.0</td>\n",
              "      <td>3000582891479</td>\n",
              "      <td>4</td>\n",
              "      <td>1</td>\n",
              "      <td>46.0</td>\n",
              "      <td>1</td>\n",
              "      <td>12</td>\n",
              "    </tr>\n",
              "    <tr>\n",
              "      <th>3</th>\n",
              "      <td>13:50:20</td>\n",
              "      <td>-1.054671</td>\n",
              "      <td>51.460544</td>\n",
              "      <td>658.0</td>\n",
              "      <td>3000582941169</td>\n",
              "      <td>4</td>\n",
              "      <td>1</td>\n",
              "      <td>62.0</td>\n",
              "      <td>1</td>\n",
              "      <td>13</td>\n",
              "    </tr>\n",
              "    <tr>\n",
              "      <th>4</th>\n",
              "      <td>21:24:45</td>\n",
              "      <td>-0.967605</td>\n",
              "      <td>51.458236</td>\n",
              "      <td>NaN</td>\n",
              "      <td>3000583140877</td>\n",
              "      <td>9</td>\n",
              "      <td>0</td>\n",
              "      <td>NaN</td>\n",
              "      <td>0</td>\n",
              "      <td>21</td>\n",
              "    </tr>\n",
              "  </tbody>\n",
              "</table>\n",
              "</div>\n",
              "      <button class=\"colab-df-convert\" onclick=\"convertToInteractive('df-19d3dcda-68a5-4d73-aa2d-9e37988d6a03')\"\n",
              "              title=\"Convert this dataframe to an interactive table.\"\n",
              "              style=\"display:none;\">\n",
              "        \n",
              "  <svg xmlns=\"http://www.w3.org/2000/svg\" height=\"24px\"viewBox=\"0 0 24 24\"\n",
              "       width=\"24px\">\n",
              "    <path d=\"M0 0h24v24H0V0z\" fill=\"none\"/>\n",
              "    <path d=\"M18.56 5.44l.94 2.06.94-2.06 2.06-.94-2.06-.94-.94-2.06-.94 2.06-2.06.94zm-11 1L8.5 8.5l.94-2.06 2.06-.94-2.06-.94L8.5 2.5l-.94 2.06-2.06.94zm10 10l.94 2.06.94-2.06 2.06-.94-2.06-.94-.94-2.06-.94 2.06-2.06.94z\"/><path d=\"M17.41 7.96l-1.37-1.37c-.4-.4-.92-.59-1.43-.59-.52 0-1.04.2-1.43.59L10.3 9.45l-7.72 7.72c-.78.78-.78 2.05 0 2.83L4 21.41c.39.39.9.59 1.41.59.51 0 1.02-.2 1.41-.59l7.78-7.78 2.81-2.81c.8-.78.8-2.07 0-2.86zM5.41 20L4 18.59l7.72-7.72 1.47 1.35L5.41 20z\"/>\n",
              "  </svg>\n",
              "      </button>\n",
              "      \n",
              "  <style>\n",
              "    .colab-df-container {\n",
              "      display:flex;\n",
              "      flex-wrap:wrap;\n",
              "      gap: 12px;\n",
              "    }\n",
              "\n",
              "    .colab-df-convert {\n",
              "      background-color: #E8F0FE;\n",
              "      border: none;\n",
              "      border-radius: 50%;\n",
              "      cursor: pointer;\n",
              "      display: none;\n",
              "      fill: #1967D2;\n",
              "      height: 32px;\n",
              "      padding: 0 0 0 0;\n",
              "      width: 32px;\n",
              "    }\n",
              "\n",
              "    .colab-df-convert:hover {\n",
              "      background-color: #E2EBFA;\n",
              "      box-shadow: 0px 1px 2px rgba(60, 64, 67, 0.3), 0px 1px 3px 1px rgba(60, 64, 67, 0.15);\n",
              "      fill: #174EA6;\n",
              "    }\n",
              "\n",
              "    [theme=dark] .colab-df-convert {\n",
              "      background-color: #3B4455;\n",
              "      fill: #D2E3FC;\n",
              "    }\n",
              "\n",
              "    [theme=dark] .colab-df-convert:hover {\n",
              "      background-color: #434B5C;\n",
              "      box-shadow: 0px 1px 3px 1px rgba(0, 0, 0, 0.15);\n",
              "      filter: drop-shadow(0px 1px 2px rgba(0, 0, 0, 0.3));\n",
              "      fill: #FFFFFF;\n",
              "    }\n",
              "  </style>\n",
              "\n",
              "      <script>\n",
              "        const buttonEl =\n",
              "          document.querySelector('#df-19d3dcda-68a5-4d73-aa2d-9e37988d6a03 button.colab-df-convert');\n",
              "        buttonEl.style.display =\n",
              "          google.colab.kernel.accessAllowed ? 'block' : 'none';\n",
              "\n",
              "        async function convertToInteractive(key) {\n",
              "          const element = document.querySelector('#df-19d3dcda-68a5-4d73-aa2d-9e37988d6a03');\n",
              "          const dataTable =\n",
              "            await google.colab.kernel.invokeFunction('convertToInteractive',\n",
              "                                                     [key], {});\n",
              "          if (!dataTable) return;\n",
              "\n",
              "          const docLinkHtml = 'Like what you see? Visit the ' +\n",
              "            '<a target=\"_blank\" href=https://colab.research.google.com/notebooks/data_table.ipynb>data table notebook</a>'\n",
              "            + ' to learn more about interactive tables.';\n",
              "          element.innerHTML = '';\n",
              "          dataTable['output_type'] = 'display_data';\n",
              "          await google.colab.output.renderOutput(dataTable, element);\n",
              "          const docLink = document.createElement('div');\n",
              "          docLink.innerHTML = docLinkHtml;\n",
              "          element.appendChild(docLink);\n",
              "        }\n",
              "      </script>\n",
              "    </div>\n",
              "  </div>\n",
              "  "
            ]
          },
          "metadata": {},
          "execution_count": 25
        }
      ]
    },
    {
      "cell_type": "code",
      "source": [
        "order.cancellations_time_in_seconds.hist()"
      ],
      "metadata": {
        "colab": {
          "base_uri": "https://localhost:8080/",
          "height": 448
        },
        "id": "EST0Ba9FDYG-",
        "outputId": "bb1e8e8c-7bf8-4171-887c-37e1d847ccf5"
      },
      "execution_count": null,
      "outputs": [
        {
          "output_type": "execute_result",
          "data": {
            "text/plain": [
              "<Axes: >"
            ]
          },
          "metadata": {},
          "execution_count": 26
        },
        {
          "output_type": "display_data",
          "data": {
            "text/plain": [
              "<Figure size 640x480 with 1 Axes>"
            ],
            "image/png": "[encoded data removed]"
          },
          "metadata": {}
        }
      ]
    },
    {
      "cell_type": "code",
      "source": [
        "(order.cancellations_time_in_seconds>1000).mean()"
      ],
      "metadata": {
        "colab": {
          "base_uri": "https://localhost:8080/"
        },
        "id": "c1iuOX9hFc7_",
        "outputId": "fb7e0d10-115f-4d67-ac0e-d834e6907996"
      },
      "execution_count": null,
      "outputs": [
        {
          "output_type": "execute_result",
          "data": {
            "text/plain": [
              "0.006718924972004479"
            ]
          },
          "metadata": {},
          "execution_count": 27
        }
      ]
    },
    {
      "cell_type": "markdown",
      "source": [
        "*  There is very small part of outliers.\n",
        "\n",
        "\n"
      ],
      "metadata": {
        "id": "QE0zvDVSFyCu"
      }
    },
    {
      "cell_type": "code",
      "source": [
        "order[order['cancellations_time_in_seconds']<=1000].groupby('is_driver_assigned_key')['cancellations_time_in_seconds'].agg(['mean', 'median', 'count'])"
      ],
      "metadata": {
        "colab": {
          "base_uri": "https://localhost:8080/",
          "height": 143
        },
        "id": "QHiNrE65FxpJ",
        "outputId": "e83e2ff6-1803-4049-d958-2185782c27fd"
      },
      "execution_count": null,
      "outputs": [
        {
          "output_type": "execute_result",
          "data": {
            "text/plain": [
              "                              mean  median  count\n",
              "is_driver_assigned_key                           \n",
              "0                       108.189087    88.0   4490\n",
              "1                       205.276503   121.0   2745"
            ],
            "text/html": [
              "\n",
              "  <div id=\"df-c293f20e-479c-42df-a912-29c8ad957bfc\">\n",
              "    <div class=\"colab-df-container\">\n",
              "      <div>\n",
              "<style scoped>\n",
              "    .dataframe tbody tr th:only-of-type {\n",
              "        vertical-align: middle;\n",
              "    }\n",
              "\n",
              "    .dataframe tbody tr th {\n",
              "        vertical-align: top;\n",
              "    }\n",
              "\n",
              "    .dataframe thead th {\n",
              "        text-align: right;\n",
              "    }\n",
              "</style>\n",
              "<table border=\"1\" class=\"dataframe\">\n",
              "  <thead>\n",
              "    <tr style=\"text-align: right;\">\n",
              "      <th></th>\n",
              "      <th>mean</th>\n",
              "      <th>median</th>\n",
              "      <th>count</th>\n",
              "    </tr>\n",
              "    <tr>\n",
              "      <th>is_driver_assigned_key</th>\n",
              "      <th></th>\n",
              "      <th></th>\n",
              "      <th></th>\n",
              "    </tr>\n",
              "  </thead>\n",
              "  <tbody>\n",
              "    <tr>\n",
              "      <th>0</th>\n",
              "      <td>108.189087</td>\n",
              "      <td>88.0</td>\n",
              "      <td>4490</td>\n",
              "    </tr>\n",
              "    <tr>\n",
              "      <th>1</th>\n",
              "      <td>205.276503</td>\n",
              "      <td>121.0</td>\n",
              "      <td>2745</td>\n",
              "    </tr>\n",
              "  </tbody>\n",
              "</table>\n",
              "</div>\n",
              "      <button class=\"colab-df-convert\" onclick=\"convertToInteractive('df-c293f20e-479c-42df-a912-29c8ad957bfc')\"\n",
              "              title=\"Convert this dataframe to an interactive table.\"\n",
              "              style=\"display:none;\">\n",
              "        \n",
              "  <svg xmlns=\"http://www.w3.org/2000/svg\" height=\"24px\"viewBox=\"0 0 24 24\"\n",
              "       width=\"24px\">\n",
              "    <path d=\"M0 0h24v24H0V0z\" fill=\"none\"/>\n",
              "    <path d=\"M18.56 5.44l.94 2.06.94-2.06 2.06-.94-2.06-.94-.94-2.06-.94 2.06-2.06.94zm-11 1L8.5 8.5l.94-2.06 2.06-.94-2.06-.94L8.5 2.5l-.94 2.06-2.06.94zm10 10l.94 2.06.94-2.06 2.06-.94-2.06-.94-.94-2.06-.94 2.06-2.06.94z\"/><path d=\"M17.41 7.96l-1.37-1.37c-.4-.4-.92-.59-1.43-.59-.52 0-1.04.2-1.43.59L10.3 9.45l-7.72 7.72c-.78.78-.78 2.05 0 2.83L4 21.41c.39.39.9.59 1.41.59.51 0 1.02-.2 1.41-.59l7.78-7.78 2.81-2.81c.8-.78.8-2.07 0-2.86zM5.41 20L4 18.59l7.72-7.72 1.47 1.35L5.41 20z\"/>\n",
              "  </svg>\n",
              "      </button>\n",
              "      \n",
              "  <style>\n",
              "    .colab-df-container {\n",
              "      display:flex;\n",
              "      flex-wrap:wrap;\n",
              "      gap: 12px;\n",
              "    }\n",
              "\n",
              "    .colab-df-convert {\n",
              "      background-color: #E8F0FE;\n",
              "      border: none;\n",
              "      border-radius: 50%;\n",
              "      cursor: pointer;\n",
              "      display: none;\n",
              "      fill: #1967D2;\n",
              "      height: 32px;\n",
              "      padding: 0 0 0 0;\n",
              "      width: 32px;\n",
              "    }\n",
              "\n",
              "    .colab-df-convert:hover {\n",
              "      background-color: #E2EBFA;\n",
              "      box-shadow: 0px 1px 2px rgba(60, 64, 67, 0.3), 0px 1px 3px 1px rgba(60, 64, 67, 0.15);\n",
              "      fill: #174EA6;\n",
              "    }\n",
              "\n",
              "    [theme=dark] .colab-df-convert {\n",
              "      background-color: #3B4455;\n",
              "      fill: #D2E3FC;\n",
              "    }\n",
              "\n",
              "    [theme=dark] .colab-df-convert:hover {\n",
              "      background-color: #434B5C;\n",
              "      box-shadow: 0px 1px 3px 1px rgba(0, 0, 0, 0.15);\n",
              "      filter: drop-shadow(0px 1px 2px rgba(0, 0, 0, 0.3));\n",
              "      fill: #FFFFFF;\n",
              "    }\n",
              "  </style>\n",
              "\n",
              "      <script>\n",
              "        const buttonEl =\n",
              "          document.querySelector('#df-c293f20e-479c-42df-a912-29c8ad957bfc button.colab-df-convert');\n",
              "        buttonEl.style.display =\n",
              "          google.colab.kernel.accessAllowed ? 'block' : 'none';\n",
              "\n",
              "        async function convertToInteractive(key) {\n",
              "          const element = document.querySelector('#df-c293f20e-479c-42df-a912-29c8ad957bfc');\n",
              "          const dataTable =\n",
              "            await google.colab.kernel.invokeFunction('convertToInteractive',\n",
              "                                                     [key], {});\n",
              "          if (!dataTable) return;\n",
              "\n",
              "          const docLinkHtml = 'Like what you see? Visit the ' +\n",
              "            '<a target=\"_blank\" href=https://colab.research.google.com/notebooks/data_table.ipynb>data table notebook</a>'\n",
              "            + ' to learn more about interactive tables.';\n",
              "          element.innerHTML = '';\n",
              "          dataTable['output_type'] = 'display_data';\n",
              "          await google.colab.output.renderOutput(dataTable, element);\n",
              "          const docLink = document.createElement('div');\n",
              "          docLink.innerHTML = docLinkHtml;\n",
              "          element.appendChild(docLink);\n",
              "        }\n",
              "      </script>\n",
              "    </div>\n",
              "  </div>\n",
              "  "
            ]
          },
          "metadata": {},
          "execution_count": 28
        }
      ]
    },
    {
      "cell_type": "code",
      "source": [
        "with_driver = order[order['is_driver_assigned_key']==1].groupby('hours')['cancellations_time_in_seconds'].agg(['mean', 'median'])"
      ],
      "metadata": {
        "id": "Db3bmUJsHBJN"
      },
      "execution_count": null,
      "outputs": []
    },
    {
      "cell_type": "code",
      "source": [
        "no_driver = order[order['is_driver_assigned_key']==0].groupby('hours')['cancellations_time_in_seconds'].agg(['mean', 'median'])"
      ],
      "metadata": {
        "id": "mbQJmkurIHh9"
      },
      "execution_count": null,
      "outputs": []
    },
    {
      "cell_type": "code",
      "source": [
        "#avg cancellation time by hours with driver assigned\n",
        "cans_plot_with_driver = with_driver['mean'].plot(kind = 'bar')\n",
        "cans_plot_with_driver.set_xlabel('Time')\n",
        "cans_plot_with_driver.set_ylabel('Avg cancellation Time')"
      ],
      "metadata": {
        "colab": {
          "base_uri": "https://localhost:8080/",
          "height": 471
        },
        "id": "VB3kwGv0IWfe",
        "outputId": "116eba2a-e4b3-4047-fa26-409a504f8d9f"
      },
      "execution_count": null,
      "outputs": [
        {
          "output_type": "execute_result",
          "data": {
            "text/plain": [
              "Text(0, 0.5, 'Avg cancellation Time')"
            ]
          },
          "metadata": {},
          "execution_count": 31
        },
        {
          "output_type": "display_data",
          "data": {
            "text/plain": [
              "<Figure size 640x480 with 1 Axes>"
            ],
            "image/png": "[encoded data removed]"
          },
          "metadata": {}
        }
      ]
    },
    {
      "cell_type": "code",
      "source": [
        "#avg cancellation time by hours without any driver assigned\n",
        "cans_plot_no_driver = no_driver['mean'].plot(kind = 'bar')\n",
        "cans_plot_no_driver.set_xlabel('Time')\n",
        "cans_plot_no_driver.set_ylabel('Avg cancellation Time')"
      ],
      "metadata": {
        "colab": {
          "base_uri": "https://localhost:8080/",
          "height": 471
        },
        "id": "cwpYbiRJJOHU",
        "outputId": "254ef6a1-db57-4f07-a475-3d42f10d2b92"
      },
      "execution_count": null,
      "outputs": [
        {
          "output_type": "execute_result",
          "data": {
            "text/plain": [
              "Text(0, 0.5, 'Avg cancellation Time')"
            ]
          },
          "metadata": {},
          "execution_count": 32
        },
        {
          "output_type": "display_data",
          "data": {
            "text/plain": [
              "<Figure size 640x480 with 1 Axes>"
            ],
            "image/png": "[encoded data removed]"
          },
          "metadata": {}
        }
      ]
    },
    {
      "cell_type": "code",
      "source": [
        "no_d = no_driver['mean'].mean()\n",
        "with_d = with_driver['mean'].mean()\n",
        "\n",
        "print(f'Avg cancellation time if driver was assigned: {with_d}', f'Av cancellation time of no driver was assigned: {no_d}', sep = '\\n')"
      ],
      "metadata": {
        "colab": {
          "base_uri": "https://localhost:8080/"
        },
        "id": "o9ywuTQ-JNXv",
        "outputId": "f7878862-c43c-4fc8-ed6e-51dc37caf4a3"
      },
      "execution_count": null,
      "outputs": [
        {
          "output_type": "stream",
          "name": "stdout",
          "text": [
            "Avg cancellation time if driver was assigned: 242.60632353041066\n",
            "Av cancellation time of no driver was assigned: 107.31176564166906\n"
          ]
        }
      ]
    },
    {
      "cell_type": "markdown",
      "source": [
        "\n",
        "\n",
        "*   When no driver is assigned then the cancellation is less\n",
        "*   Both the graphs have distribution similar to uniform\n",
        "\n"
      ],
      "metadata": {
        "id": "zcUN9O4rL3BH"
      }
    },
    {
      "cell_type": "markdown",
      "source": [
        "***4. Distribution of avg ETA(estimated time of arrival) by hours***"
      ],
      "metadata": {
        "id": "ACPUGk3fMlrl"
      }
    },
    {
      "cell_type": "code",
      "source": [
        "order.head()"
      ],
      "metadata": {
        "colab": {
          "base_uri": "https://localhost:8080/",
          "height": 270
        },
        "id": "Oiy8BMLhNCn0",
        "outputId": "62b9a456-bfc3-409b-ad29-472e476feff0"
      },
      "execution_count": null,
      "outputs": [
        {
          "output_type": "execute_result",
          "data": {
            "text/plain": [
              "  order_datetime  origin_longitude  origin_latitude  m_order_eta  \\\n",
              "0       18:08:07         -0.978916        51.456173         60.0   \n",
              "1       20:57:32         -0.950385        51.456843          NaN   \n",
              "2       12:07:50         -0.969520        51.455544        477.0   \n",
              "3       13:50:20         -1.054671        51.460544        658.0   \n",
              "4       21:24:45         -0.967605        51.458236          NaN   \n",
              "\n",
              "        order_gk  order_status_key  is_driver_assigned_key  \\\n",
              "0  3000583041974                 4                       1   \n",
              "1  3000583116437                 4                       0   \n",
              "2  3000582891479                 4                       1   \n",
              "3  3000582941169                 4                       1   \n",
              "4  3000583140877                 9                       0   \n",
              "\n",
              "   cancellations_time_in_seconds  is_cancelled_by_customer hours  \n",
              "0                          198.0                         1    18  \n",
              "1                          128.0                         1    20  \n",
              "2                           46.0                         1    12  \n",
              "3                           62.0                         1    13  \n",
              "4                            NaN                         0    21  "
            ],
            "text/html": [
              "\n",
              "  <div id=\"df-63df73a1-3e28-4992-9568-33fc27ef10d6\">\n",
              "    <div class=\"colab-df-container\">\n",
              "      <div>\n",
              "<style scoped>\n",
              "    .dataframe tbody tr th:only-of-type {\n",
              "        vertical-align: middle;\n",
              "    }\n",
              "\n",
              "    .dataframe tbody tr th {\n",
              "        vertical-align: top;\n",
              "    }\n",
              "\n",
              "    .dataframe thead th {\n",
              "        text-align: right;\n",
              "    }\n",
              "</style>\n",
              "<table border=\"1\" class=\"dataframe\">\n",
              "  <thead>\n",
              "    <tr style=\"text-align: right;\">\n",
              "      <th></th>\n",
              "      <th>order_datetime</th>\n",
              "      <th>origin_longitude</th>\n",
              "      <th>origin_latitude</th>\n",
              "      <th>m_order_eta</th>\n",
              "      <th>order_gk</th>\n",
              "      <th>order_status_key</th>\n",
              "      <th>is_driver_assigned_key</th>\n",
              "      <th>cancellations_time_in_seconds</th>\n",
              "      <th>is_cancelled_by_customer</th>\n",
              "      <th>hours</th>\n",
              "    </tr>\n",
              "  </thead>\n",
              "  <tbody>\n",
              "    <tr>\n",
              "      <th>0</th>\n",
              "      <td>18:08:07</td>\n",
              "      <td>-0.978916</td>\n",
              "      <td>51.456173</td>\n",
              "      <td>60.0</td>\n",
              "      <td>3000583041974</td>\n",
              "      <td>4</td>\n",
              "      <td>1</td>\n",
              "      <td>198.0</td>\n",
              "      <td>1</td>\n",
              "      <td>18</td>\n",
              "    </tr>\n",
              "    <tr>\n",
              "      <th>1</th>\n",
              "      <td>20:57:32</td>\n",
              "      <td>-0.950385</td>\n",
              "      <td>51.456843</td>\n",
              "      <td>NaN</td>\n",
              "      <td>3000583116437</td>\n",
              "      <td>4</td>\n",
              "      <td>0</td>\n",
              "      <td>128.0</td>\n",
              "      <td>1</td>\n",
              "      <td>20</td>\n",
              "    </tr>\n",
              "    <tr>\n",
              "      <th>2</th>\n",
              "      <td>12:07:50</td>\n",
              "      <td>-0.969520</td>\n",
              "      <td>51.455544</td>\n",
              "      <td>477.0</td>\n",
              "      <td>3000582891479</td>\n",
              "      <td>4</td>\n",
              "      <td>1</td>\n",
              "      <td>46.0</td>\n",
              "      <td>1</td>\n",
              "      <td>12</td>\n",
              "    </tr>\n",
              "    <tr>\n",
              "      <th>3</th>\n",
              "      <td>13:50:20</td>\n",
              "      <td>-1.054671</td>\n",
              "      <td>51.460544</td>\n",
              "      <td>658.0</td>\n",
              "      <td>3000582941169</td>\n",
              "      <td>4</td>\n",
              "      <td>1</td>\n",
              "      <td>62.0</td>\n",
              "      <td>1</td>\n",
              "      <td>13</td>\n",
              "    </tr>\n",
              "    <tr>\n",
              "      <th>4</th>\n",
              "      <td>21:24:45</td>\n",
              "      <td>-0.967605</td>\n",
              "      <td>51.458236</td>\n",
              "      <td>NaN</td>\n",
              "      <td>3000583140877</td>\n",
              "      <td>9</td>\n",
              "      <td>0</td>\n",
              "      <td>NaN</td>\n",
              "      <td>0</td>\n",
              "      <td>21</td>\n",
              "    </tr>\n",
              "  </tbody>\n",
              "</table>\n",
              "</div>\n",
              "      <button class=\"colab-df-convert\" onclick=\"convertToInteractive('df-63df73a1-3e28-4992-9568-33fc27ef10d6')\"\n",
              "              title=\"Convert this dataframe to an interactive table.\"\n",
              "              style=\"display:none;\">\n",
              "        \n",
              "  <svg xmlns=\"http://www.w3.org/2000/svg\" height=\"24px\"viewBox=\"0 0 24 24\"\n",
              "       width=\"24px\">\n",
              "    <path d=\"M0 0h24v24H0V0z\" fill=\"none\"/>\n",
              "    <path d=\"M18.56 5.44l.94 2.06.94-2.06 2.06-.94-2.06-.94-.94-2.06-.94 2.06-2.06.94zm-11 1L8.5 8.5l.94-2.06 2.06-.94-2.06-.94L8.5 2.5l-.94 2.06-2.06.94zm10 10l.94 2.06.94-2.06 2.06-.94-2.06-.94-.94-2.06-.94 2.06-2.06.94z\"/><path d=\"M17.41 7.96l-1.37-1.37c-.4-.4-.92-.59-1.43-.59-.52 0-1.04.2-1.43.59L10.3 9.45l-7.72 7.72c-.78.78-.78 2.05 0 2.83L4 21.41c.39.39.9.59 1.41.59.51 0 1.02-.2 1.41-.59l7.78-7.78 2.81-2.81c.8-.78.8-2.07 0-2.86zM5.41 20L4 18.59l7.72-7.72 1.47 1.35L5.41 20z\"/>\n",
              "  </svg>\n",
              "      </button>\n",
              "      \n",
              "  <style>\n",
              "    .colab-df-container {\n",
              "      display:flex;\n",
              "      flex-wrap:wrap;\n",
              "      gap: 12px;\n",
              "    }\n",
              "\n",
              "    .colab-df-convert {\n",
              "      background-color: #E8F0FE;\n",
              "      border: none;\n",
              "      border-radius: 50%;\n",
              "      cursor: pointer;\n",
              "      display: none;\n",
              "      fill: #1967D2;\n",
              "      height: 32px;\n",
              "      padding: 0 0 0 0;\n",
              "      width: 32px;\n",
              "    }\n",
              "\n",
              "    .colab-df-convert:hover {\n",
              "      background-color: #E2EBFA;\n",
              "      box-shadow: 0px 1px 2px rgba(60, 64, 67, 0.3), 0px 1px 3px 1px rgba(60, 64, 67, 0.15);\n",
              "      fill: #174EA6;\n",
              "    }\n",
              "\n",
              "    [theme=dark] .colab-df-convert {\n",
              "      background-color: #3B4455;\n",
              "      fill: #D2E3FC;\n",
              "    }\n",
              "\n",
              "    [theme=dark] .colab-df-convert:hover {\n",
              "      background-color: #434B5C;\n",
              "      box-shadow: 0px 1px 3px 1px rgba(0, 0, 0, 0.15);\n",
              "      filter: drop-shadow(0px 1px 2px rgba(0, 0, 0, 0.3));\n",
              "      fill: #FFFFFF;\n",
              "    }\n",
              "  </style>\n",
              "\n",
              "      <script>\n",
              "        const buttonEl =\n",
              "          document.querySelector('#df-63df73a1-3e28-4992-9568-33fc27ef10d6 button.colab-df-convert');\n",
              "        buttonEl.style.display =\n",
              "          google.colab.kernel.accessAllowed ? 'block' : 'none';\n",
              "\n",
              "        async function convertToInteractive(key) {\n",
              "          const element = document.querySelector('#df-63df73a1-3e28-4992-9568-33fc27ef10d6');\n",
              "          const dataTable =\n",
              "            await google.colab.kernel.invokeFunction('convertToInteractive',\n",
              "                                                     [key], {});\n",
              "          if (!dataTable) return;\n",
              "\n",
              "          const docLinkHtml = 'Like what you see? Visit the ' +\n",
              "            '<a target=\"_blank\" href=https://colab.research.google.com/notebooks/data_table.ipynb>data table notebook</a>'\n",
              "            + ' to learn more about interactive tables.';\n",
              "          element.innerHTML = '';\n",
              "          dataTable['output_type'] = 'display_data';\n",
              "          await google.colab.output.renderOutput(dataTable, element);\n",
              "          const docLink = document.createElement('div');\n",
              "          docLink.innerHTML = docLinkHtml;\n",
              "          element.appendChild(docLink);\n",
              "        }\n",
              "      </script>\n",
              "    </div>\n",
              "  </div>\n",
              "  "
            ]
          },
          "metadata": {},
          "execution_count": 34
        }
      ]
    },
    {
      "cell_type": "code",
      "source": [
        "order['m_order_eta'].describe()"
      ],
      "metadata": {
        "colab": {
          "base_uri": "https://localhost:8080/"
        },
        "id": "Kongj8CSL2Ft",
        "outputId": "2c68d324-c2c6-4513-e480-299f38c2a8ae"
      },
      "execution_count": null,
      "outputs": [
        {
          "output_type": "execute_result",
          "data": {
            "text/plain": [
              "count    2814.000000\n",
              "mean      441.415423\n",
              "std       288.006379\n",
              "min        60.000000\n",
              "25%       233.000000\n",
              "50%       368.500000\n",
              "75%       653.000000\n",
              "max      1559.000000\n",
              "Name: m_order_eta, dtype: float64"
            ]
          },
          "metadata": {},
          "execution_count": 35
        }
      ]
    },
    {
      "cell_type": "code",
      "source": [
        "order['m_order_eta'].hist()"
      ],
      "metadata": {
        "colab": {
          "base_uri": "https://localhost:8080/",
          "height": 448
        },
        "id": "lKF3xhMrNn8N",
        "outputId": "cbb0b9f0-17e5-432e-b2ed-f3a6e3071987"
      },
      "execution_count": null,
      "outputs": [
        {
          "output_type": "execute_result",
          "data": {
            "text/plain": [
              "<Axes: >"
            ]
          },
          "metadata": {},
          "execution_count": 36
        },
        {
          "output_type": "display_data",
          "data": {
            "text/plain": [
              "<Figure size 640x480 with 1 Axes>"
            ],
            "image/png": "[encoded data removed]"
          },
          "metadata": {}
        }
      ]
    },
    {
      "cell_type": "code",
      "source": [
        "order.m_order_eta.isna().mean()"
      ],
      "metadata": {
        "colab": {
          "base_uri": "https://localhost:8080/"
        },
        "id": "B4waqL6WNxQv",
        "outputId": "1d763259-0729-4645-aa18-484d18634aa9"
      },
      "execution_count": null,
      "outputs": [
        {
          "output_type": "execute_result",
          "data": {
            "text/plain": [
              "0.7374020156774916"
            ]
          },
          "metadata": {},
          "execution_count": 37
        }
      ]
    },
    {
      "cell_type": "code",
      "source": [
        "eta = order.groupby('hours')['m_order_eta'].agg(['mean', 'count', 'median']).reset_index()"
      ],
      "metadata": {
        "id": "EGeTKQbAN7i_"
      },
      "execution_count": null,
      "outputs": []
    },
    {
      "cell_type": "code",
      "source": [
        "eta_plot = sns.barplot(data = eta, x = 'hours', y =  'median')\n",
        "eta_plot.set_title('Distribution of avg ETA by hour')\n",
        "eta_plot.set_ylabel('Median ETA')\n",
        "eta_plot.set_xlabel('Hours')"
      ],
      "metadata": {
        "colab": {
          "base_uri": "https://localhost:8080/",
          "height": 490
        },
        "id": "FcNd_5jxOUIs",
        "outputId": "126f17cd-ebed-446e-e578-dc8cf4c9d675"
      },
      "execution_count": null,
      "outputs": [
        {
          "output_type": "execute_result",
          "data": {
            "text/plain": [
              "Text(0.5, 0, 'Hours')"
            ]
          },
          "metadata": {},
          "execution_count": 39
        },
        {
          "output_type": "display_data",
          "data": {
            "text/plain": [
              "<Figure size 640x480 with 1 Axes>"
            ],
            "image/png": "[encoded data removed]"
          },
          "metadata": {}
        }
      ]
    },
    {
      "cell_type": "code",
      "source": [
        "eta_plot = sns.barplot(data = eta, x = 'hours', y =  'mean')\n",
        "eta_plot.set_title('Distribution of avg ETA by hour')\n",
        "eta_plot.set_ylabel('Avg ETA')\n",
        "eta_plot.set_xlabel('Hours')"
      ],
      "metadata": {
        "colab": {
          "base_uri": "https://localhost:8080/",
          "height": 490
        },
        "id": "d84vKjE1PdDM",
        "outputId": "ca2ebe3f-07f3-46e5-9b6e-7d196796b2d0"
      },
      "execution_count": null,
      "outputs": [
        {
          "output_type": "execute_result",
          "data": {
            "text/plain": [
              "Text(0.5, 0, 'Hours')"
            ]
          },
          "metadata": {},
          "execution_count": 40
        },
        {
          "output_type": "display_data",
          "data": {
            "text/plain": [
              "<Figure size 640x480 with 1 Axes>"
            ],
            "image/png": "[encoded data removed]"
          },
          "metadata": {}
        }
      ]
    },
    {
      "cell_type": "markdown",
      "source": [
        "\n",
        "\n",
        "*   ETA is higher during morning rush hours\n",
        "\n"
      ],
      "metadata": {
        "id": "UvVm3T4bPr0v"
      }
    }
  ]
}